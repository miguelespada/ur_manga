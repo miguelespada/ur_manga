{
 "cells": [
  {
   "cell_type": "code",
   "execution_count": 33,
   "metadata": {},
   "outputs": [],
   "source": [
    "import sys\n",
    "import math, random\n",
    "\n",
    "import rospy\n",
    "import tf\n",
    "\n",
    "from moveit_msgs.srv import GetPositionIK\n",
    "from moveit_msgs.msg import PositionIKRequest, RobotState, DisplayRobotState\n",
    "\n",
    "from visualization_msgs.msg import Marker\n",
    "from geometry_msgs.msg import PoseStamped\n",
    "\n",
    "\n",
    "import moveit_commander\n"
   ]
  },
  {
   "cell_type": "code",
   "execution_count": 34,
   "metadata": {},
   "outputs": [],
   "source": [
    "rospy.wait_for_service('compute_ik')\n",
    "compute_ik = rospy.ServiceProxy('compute_ik', GetPositionIK)\n",
    "\n",
    "pub_markers = rospy.Publisher('visualization_marker', Marker, queue_size=10)\n",
    "pub_ik_target = rospy.Publisher('ik_target', PoseStamped, queue_size=10)\n",
    "\n",
    "rospy.init_node(\"sample_ik_reachable\")\n",
    "\n",
    "tl = tf.TransformListener()"
   ]
  },
  {
   "cell_type": "code",
   "execution_count": 35,
   "metadata": {},
   "outputs": [],
   "source": [
    "robot = moveit_commander.RobotCommander()"
   ]
  },
  {
   "cell_type": "code",
   "execution_count": 36,
   "metadata": {},
   "outputs": [
    {
     "data": {
      "text/plain": [
       "['world',\n",
       " 'base_link',\n",
       " 'base',\n",
       " 'shoulder_link',\n",
       " 'upper_arm_link',\n",
       " 'forearm_link',\n",
       " 'wrist_1_link',\n",
       " 'wrist_2_link',\n",
       " 'wrist_3_link',\n",
       " 'ee_link',\n",
       " 'tool0']"
      ]
     },
     "execution_count": 36,
     "metadata": {},
     "output_type": "execute_result"
    }
   ],
   "source": [
    "robot.get_link_names()"
   ]
  },
  {
   "cell_type": "code",
   "execution_count": 45,
   "metadata": {},
   "outputs": [
    {
     "data": {
      "text/plain": [
       "header: \n",
       "  seq: 0\n",
       "  stamp: \n",
       "    secs: 1332\n",
       "    nsecs: 389000000\n",
       "  frame_id: /world\n",
       "pose: \n",
       "  position: \n",
       "    x: 0.817146201511\n",
       "    y: 0.19051772308\n",
       "    z: -0.00818266290324\n",
       "  orientation: \n",
       "    x: 0.707510649884\n",
       "    y: 0.706700682936\n",
       "    z: -0.00118781894469\n",
       "    w: -0.00118916983269"
      ]
     },
     "execution_count": 45,
     "metadata": {},
     "output_type": "execute_result"
    }
   ],
   "source": [
    "link = robot.get_link(\"ee_link\")\n",
    "link.pose()"
   ]
  },
  {
   "cell_type": "code",
   "execution_count": 53,
   "metadata": {},
   "outputs": [],
   "source": [
    "def get_ik(target, initial_state, group = \"manipulator\"):\n",
    "    \"\"\"\n",
    "    :param target:  a PoseStamped give the desired position of the endeffector.\n",
    "    \"\"\"\n",
    "    service_request = PositionIKRequest()\n",
    "    service_request.group_name = group\n",
    "    service_request.robot_state = initial_state\n",
    "    service_request.ik_link_name = \"ee_link\"\n",
    "    service_request.pose_stamped = target\n",
    "    service_request.timeout.secs= 0.1\n",
    "    service_request.avoid_collisions = False\n",
    "\n",
    "    try:\n",
    "        resp = compute_ik(ik_request = service_request)\n",
    "        return resp\n",
    "    except rospy.ServiceException, e:\n",
    "        print \"Service call failed: %s\"%e\n"
   ]
  },
  {
   "cell_type": "code",
   "execution_count": 54,
   "metadata": {},
   "outputs": [
    {
     "name": "stdout",
     "output_type": "stream",
     "text": [
      "Checking 0.0410653929431 -0.0187784593791 0.00342095057115\n",
      "val: -31\n"
     ]
    }
   ],
   "source": [
    "x = (random.random() - 0.5) / 10\n",
    "y = (random.random() - 0.5) / 10\n",
    "z = (random.random() - 0.5) / 20\n",
    "\n",
    "target.pose.position.x = x\n",
    "target.pose.position.y = y\n",
    "target.pose.position.z = z\n",
    "\n",
    "pub_ik_target.publish(target)\n",
    "\n",
    "print(\"Checking %s %s %s\" %(x,y,z))\n",
    "\n",
    "res = get_ik(target, robot.get_current_state())\n",
    "\n",
    "print res.error_code\n"
   ]
  },
  {
   "cell_type": "code",
   "execution_count": null,
   "metadata": {},
   "outputs": [],
   "source": []
  }
 ],
 "metadata": {
  "kernelspec": {
   "display_name": "Python 2",
   "language": "python",
   "name": "python2"
  },
  "language_info": {
   "codemirror_mode": {
    "name": "ipython",
    "version": 2
   },
   "file_extension": ".py",
   "mimetype": "text/x-python",
   "name": "python",
   "nbconvert_exporter": "python",
   "pygments_lexer": "ipython2",
   "version": "2.7.12"
  }
 },
 "nbformat": 4,
 "nbformat_minor": 2
}
