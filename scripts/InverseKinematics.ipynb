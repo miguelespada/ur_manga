{
 "cells": [
  {
   "cell_type": "code",
   "execution_count": 11,
   "metadata": {},
   "outputs": [],
   "source": [
    "import sys\n",
    "import math, random\n",
    "\n",
    "import rospy\n",
    "import tf\n",
    "\n",
    "from moveit_msgs.srv import GetPositionIK\n",
    "from moveit_msgs.msg import PositionIKRequest, RobotState, DisplayRobotState\n",
    "\n",
    "from visualization_msgs.msg import Marker\n",
    "from geometry_msgs.msg import PoseStamped\n",
    "\n",
    "\n",
    "import moveit_commander\n"
   ]
  },
  {
   "cell_type": "code",
   "execution_count": 12,
   "metadata": {},
   "outputs": [],
   "source": [
    "rospy.wait_for_service('compute_ik')\n",
    "compute_ik = rospy.ServiceProxy('compute_ik', GetPositionIK)\n",
    "\n",
    "pub_markers = rospy.Publisher('visualization_marker', Marker, queue_size=10)\n",
    "pub_ik_target = rospy.Publisher('ik_target', PoseStamped, queue_size=10)\n",
    "\n",
    "rospy.init_node(\"sample_ik_reachable\")\n",
    "\n",
    "tl = tf.TransformListener()"
   ]
  },
  {
   "cell_type": "code",
   "execution_count": 13,
   "metadata": {},
   "outputs": [],
   "source": [
    "robot = moveit_commander.RobotCommander()"
   ]
  },
  {
   "cell_type": "code",
   "execution_count": 14,
   "metadata": {},
   "outputs": [
    {
     "data": {
      "text/plain": [
       "['world',\n",
       " 'base_link',\n",
       " 'base',\n",
       " 'shoulder_link',\n",
       " 'upper_arm_link',\n",
       " 'forearm_link',\n",
       " 'wrist_1_link',\n",
       " 'wrist_2_link',\n",
       " 'wrist_3_link',\n",
       " 'ee_link',\n",
       " 'tool0']"
      ]
     },
     "execution_count": 14,
     "metadata": {},
     "output_type": "execute_result"
    }
   ],
   "source": [
    "robot.get_link_names()"
   ]
  },
  {
   "cell_type": "code",
   "execution_count": 3,
   "metadata": {},
   "outputs": [
    {
     "ename": "NameError",
     "evalue": "name 'robot' is not defined",
     "output_type": "error",
     "traceback": [
      "\u001b[0;31m---------------------------------------------------------------------------\u001b[0m",
      "\u001b[0;31mNameError\u001b[0m                                 Traceback (most recent call last)",
      "\u001b[0;32m<ipython-input-3-f4277c966604>\u001b[0m in \u001b[0;36m<module>\u001b[0;34m()\u001b[0m\n\u001b[0;32m----> 1\u001b[0;31m \u001b[0mlink\u001b[0m \u001b[0;34m=\u001b[0m \u001b[0mrobot\u001b[0m\u001b[0;34m.\u001b[0m\u001b[0mget_link\u001b[0m\u001b[0;34m(\u001b[0m\u001b[0;34m\"ee_link\"\u001b[0m\u001b[0;34m)\u001b[0m\u001b[0;34m\u001b[0m\u001b[0m\n\u001b[0m\u001b[1;32m      2\u001b[0m \u001b[0mlink\u001b[0m\u001b[0;34m.\u001b[0m\u001b[0mpose\u001b[0m\u001b[0;34m(\u001b[0m\u001b[0;34m)\u001b[0m\u001b[0;34m\u001b[0m\u001b[0m\n\u001b[1;32m      3\u001b[0m \u001b[0mgroup\u001b[0m \u001b[0;34m=\u001b[0m \u001b[0mmoveit_commander\u001b[0m\u001b[0;34m.\u001b[0m\u001b[0mMoveGroupCommander\u001b[0m\u001b[0;34m(\u001b[0m\u001b[0;34m\"manipulator\"\u001b[0m\u001b[0;34m)\u001b[0m\u001b[0;34m\u001b[0m\u001b[0m\n\u001b[1;32m      4\u001b[0m \u001b[0;32mprint\u001b[0m \u001b[0;34m\"============ End effector: %s\"\u001b[0m \u001b[0;34m%\u001b[0m \u001b[0mgroup\u001b[0m\u001b[0;34m.\u001b[0m\u001b[0mget_end_effector_link\u001b[0m\u001b[0;34m(\u001b[0m\u001b[0;34m)\u001b[0m\u001b[0;34m\u001b[0m\u001b[0m\n",
      "\u001b[0;31mNameError\u001b[0m: name 'robot' is not defined"
     ]
    }
   ],
   "source": [
    "link = robot.get_link(\"ee_link\")\n",
    "link.pose()\n",
    "group = moveit_commander.MoveGroupCommander(\"manipulator\")\n",
    "print \"============ End effector: %s\" % group.get_end_effector_link()\n"
   ]
  },
  {
   "cell_type": "code",
   "execution_count": 2,
   "metadata": {},
   "outputs": [
    {
     "ename": "NameError",
     "evalue": "name 'group' is not defined",
     "output_type": "error",
     "traceback": [
      "\u001b[0;31m---------------------------------------------------------------------------\u001b[0m",
      "\u001b[0;31mNameError\u001b[0m                                 Traceback (most recent call last)",
      "\u001b[0;32m<ipython-input-2-e25e34c77784>\u001b[0m in \u001b[0;36m<module>\u001b[0;34m()\u001b[0m\n\u001b[0;32m----> 1\u001b[0;31m \u001b[0mgroup\u001b[0m\u001b[0;34m.\u001b[0m\u001b[0mget_current_pose\u001b[0m\u001b[0;34m(\u001b[0m\u001b[0;34m)\u001b[0m\u001b[0;34m\u001b[0m\u001b[0m\n\u001b[0m",
      "\u001b[0;31mNameError\u001b[0m: name 'group' is not defined"
     ]
    }
   ],
   "source": [
    "group.get_current_pose()"
   ]
  },
  {
   "cell_type": "code",
   "execution_count": 17,
   "metadata": {},
   "outputs": [],
   "source": [
    "def get_ik(target, initial_state, group = \"manipulator\"):\n",
    "    \"\"\"\n",
    "    :param target:  a PoseStamped give the desired position of the endeffector.\n",
    "    \"\"\"\n",
    "    service_request = PositionIKRequest()\n",
    "    service_request.group_name = group\n",
    "    service_request.robot_state = initial_state\n",
    "    service_request.ik_link_name = \"ee_link\"\n",
    "    service_request.pose_stamped = target\n",
    "    service_request.timeout.secs= 0.1\n",
    "    service_request.avoid_collisions = False\n",
    "\n",
    "    try:\n",
    "        resp = compute_ik(ik_request = service_request)\n",
    "        return resp\n",
    "    except rospy.ServiceException, e:\n",
    "        print \"Service call failed: %s\"%e\n"
   ]
  },
  {
   "cell_type": "code",
   "execution_count": 1,
   "metadata": {},
   "outputs": [
    {
     "ename": "NameError",
     "evalue": "name 'target' is not defined",
     "output_type": "error",
     "traceback": [
      "\u001b[0;31m---------------------------------------------------------------------------\u001b[0m",
      "\u001b[0;31mNameError\u001b[0m                                 Traceback (most recent call last)",
      "\u001b[0;32m<ipython-input-1-5882a418ed37>\u001b[0m in \u001b[0;36m<module>\u001b[0;34m()\u001b[0m\n\u001b[1;32m      4\u001b[0m \u001b[0mz\u001b[0m\u001b[0;34m=\u001b[0m \u001b[0;36m0.408559164639\u001b[0m\u001b[0;34m\u001b[0m\u001b[0m\n\u001b[1;32m      5\u001b[0m \u001b[0;34m\u001b[0m\u001b[0m\n\u001b[0;32m----> 6\u001b[0;31m \u001b[0mtarget\u001b[0m\u001b[0;34m.\u001b[0m\u001b[0mpose\u001b[0m\u001b[0;34m.\u001b[0m\u001b[0mposition\u001b[0m\u001b[0;34m.\u001b[0m\u001b[0mx\u001b[0m \u001b[0;34m=\u001b[0m \u001b[0mx\u001b[0m\u001b[0;34m\u001b[0m\u001b[0m\n\u001b[0m\u001b[1;32m      7\u001b[0m \u001b[0mtarget\u001b[0m\u001b[0;34m.\u001b[0m\u001b[0mpose\u001b[0m\u001b[0;34m.\u001b[0m\u001b[0mposition\u001b[0m\u001b[0;34m.\u001b[0m\u001b[0my\u001b[0m \u001b[0;34m=\u001b[0m \u001b[0my\u001b[0m\u001b[0;34m\u001b[0m\u001b[0m\n\u001b[1;32m      8\u001b[0m \u001b[0mtarget\u001b[0m\u001b[0;34m.\u001b[0m\u001b[0mpose\u001b[0m\u001b[0;34m.\u001b[0m\u001b[0mposition\u001b[0m\u001b[0;34m.\u001b[0m\u001b[0mz\u001b[0m \u001b[0;34m=\u001b[0m \u001b[0mz\u001b[0m\u001b[0;34m\u001b[0m\u001b[0m\n",
      "\u001b[0;31mNameError\u001b[0m: name 'target' is not defined"
     ]
    }
   ],
   "source": [
    "\n",
    "x = -0.0377490661104\n",
    "y = -0.516911386609\n",
    "z = 0.408559164639\n",
    "\n",
    "target.pose.position.x = x\n",
    "target.pose.position.y = y\n",
    "target.pose.position.z = z\n",
    "\n",
    "pub_ik_target.publish(target)\n",
    "\n",
    "print(\"Checking %s %s %s\" %(x,y,z))\n",
    "\n",
    "res = get_ik(target, robot.get_current_state())\n",
    "\n",
    "print res.error_code\n"
   ]
  },
  {
   "cell_type": "code",
   "execution_count": 30,
   "metadata": {},
   "outputs": [
    {
     "data": {
      "text/plain": [
       "(1.1254808887152379,\n",
       " -1.2790473577594499,\n",
       " 1.0253452988633909,\n",
       " 0.25370204289607934,\n",
       " 2.696277216758782,\n",
       " -3.14159265359)"
      ]
     },
     "execution_count": 30,
     "metadata": {},
     "output_type": "execute_result"
    }
   ],
   "source": [
    "res.solution.joint_state.position"
   ]
  },
  {
   "cell_type": "code",
   "execution_count": null,
   "metadata": {},
   "outputs": [],
   "source": []
  }
 ],
 "metadata": {
  "kernelspec": {
   "display_name": "Python 2",
   "language": "python",
   "name": "python2"
  },
  "language_info": {
   "codemirror_mode": {
    "name": "ipython",
    "version": 2
   },
   "file_extension": ".py",
   "mimetype": "text/x-python",
   "name": "python",
   "nbconvert_exporter": "python",
   "pygments_lexer": "ipython2",
   "version": "2.7.12"
  }
 },
 "nbformat": 4,
 "nbformat_minor": 2
}
