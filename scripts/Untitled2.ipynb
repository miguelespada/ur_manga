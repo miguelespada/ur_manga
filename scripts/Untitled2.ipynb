{
 "cells": [
  {
   "cell_type": "code",
   "execution_count": 54,
   "metadata": {},
   "outputs": [],
   "source": [
    "import sys\n",
    "import copy\n",
    "import rospy\n",
    "import moveit_commander\n",
    "import moveit_msgs.msg\n",
    "import geometry_msgs.msg\n",
    "\n",
    "from geometry_msgs.msg import PoseStamped\n",
    "\n",
    "\n",
    "import moveit_planners_ompl"
   ]
  },
  {
   "cell_type": "code",
   "execution_count": 55,
   "metadata": {},
   "outputs": [
    {
     "name": "stdout",
     "output_type": "stream",
     "text": [
      "Help on package moveit_planners_ompl:\n",
      "\n",
      "NAME\n",
      "    moveit_planners_ompl\n",
      "\n",
      "FILE\n",
      "    /opt/ros/kinetic/lib/python2.7/dist-packages/moveit_planners_ompl/__init__.py\n",
      "\n",
      "PACKAGE CONTENTS\n",
      "    cfg (package)\n",
      "\n",
      "\n"
     ]
    }
   ],
   "source": [
    "help(moveit_planners_ompl)"
   ]
  },
  {
   "cell_type": "code",
   "execution_count": 43,
   "metadata": {},
   "outputs": [
    {
     "name": "stdout",
     "output_type": "stream",
     "text": [
      "============ Starting tutorial setup\n"
     ]
    }
   ],
   "source": [
    "print \"============ Starting tutorial setup\"\n",
    "moveit_commander.roscpp_initialize(sys.argv)\n",
    "rospy.init_node('move_group_python_interface_tutorial',\n",
    "                anonymous=True)"
   ]
  },
  {
   "cell_type": "code",
   "execution_count": 44,
   "metadata": {},
   "outputs": [
    {
     "name": "stdout",
     "output_type": "stream",
     "text": [
      "['endeffector', 'manipulator']\n"
     ]
    }
   ],
   "source": [
    "robot = moveit_commander.RobotCommander()\n",
    "print robot.get_group_names()"
   ]
  },
  {
   "cell_type": "code",
   "execution_count": 45,
   "metadata": {},
   "outputs": [],
   "source": [
    "scene = moveit_commander.PlanningSceneInterface()"
   ]
  },
  {
   "cell_type": "code",
   "execution_count": 46,
   "metadata": {},
   "outputs": [],
   "source": [
    "group = moveit_commander.MoveGroupCommander(\"manipulator\")"
   ]
  },
  {
   "cell_type": "code",
   "execution_count": 47,
   "metadata": {},
   "outputs": [],
   "source": [
    "center_target = group.get_current_pose()"
   ]
  },
  {
   "cell_type": "code",
   "execution_count": 48,
   "metadata": {},
   "outputs": [],
   "source": [
    "side_target = group.get_random_pose()"
   ]
  },
  {
   "cell_type": "code",
   "execution_count": 49,
   "metadata": {},
   "outputs": [
    {
     "data": {
      "text/plain": [
       "header: \n",
       "  seq: 0\n",
       "  stamp: \n",
       "    secs: 1508328495\n",
       "    nsecs: 928416013\n",
       "  frame_id: /world\n",
       "pose: \n",
       "  position: \n",
       "    x: -0.470860747558\n",
       "    y: -0.5700657252\n",
       "    z: 0.185445488831\n",
       "  orientation: \n",
       "    x: -0.605720989195\n",
       "    y: 0.362194685305\n",
       "    z: 0.577259202821\n",
       "    w: 0.41071755008"
      ]
     },
     "execution_count": 49,
     "metadata": {},
     "output_type": "execute_result"
    }
   ],
   "source": [
    "center_target"
   ]
  },
  {
   "cell_type": "code",
   "execution_count": 37,
   "metadata": {},
   "outputs": [
    {
     "data": {
      "text/plain": [
       "header: \n",
       "  seq: 0\n",
       "  stamp: \n",
       "    secs: 1508328205\n",
       "    nsecs: 474980115\n",
       "  frame_id: /world\n",
       "pose: \n",
       "  position: \n",
       "    x: 0.659001365034\n",
       "    y: 0.231331274328\n",
       "    z: 0.0228516558531\n",
       "  orientation: \n",
       "    x: -0.316992684428\n",
       "    y: 0.253103321206\n",
       "    z: -0.913324566963\n",
       "    w: 0.0359524991624"
      ]
     },
     "execution_count": 37,
     "metadata": {},
     "output_type": "execute_result"
    }
   ],
   "source": [
    "side_target"
   ]
  },
  {
   "cell_type": "code",
   "execution_count": 50,
   "metadata": {},
   "outputs": [],
   "source": [
    "group.allow_replanning(True)\n",
    "group.allow_looking(True)\n",
    "group.set_end_effector_link(\"ee_link\")"
   ]
  },
  {
   "cell_type": "code",
   "execution_count": null,
   "metadata": {},
   "outputs": [],
   "source": []
  },
  {
   "cell_type": "code",
   "execution_count": 39,
   "metadata": {},
   "outputs": [],
   "source": [
    "group.set_pose_target(side_target)"
   ]
  },
  {
   "cell_type": "code",
   "execution_count": 40,
   "metadata": {},
   "outputs": [],
   "source": [
    "goal_publisher = rospy.Publisher('/move_group/goal',\n",
    "                                    moveit_msgs.msg.MoveGroupActionGoal,\n",
    "                                    queue_size=20)\n",
    "\n",
    "goal_msg = moveit_msgs.msg.MoveGroupActionGoal()\n",
    "plan1 = group.plan()"
   ]
  },
  {
   "cell_type": "code",
   "execution_count": 41,
   "metadata": {},
   "outputs": [
    {
     "data": {
      "text/plain": [
       "joint_trajectory: \n",
       "  header: \n",
       "    seq: 0\n",
       "    stamp: \n",
       "      secs: 0\n",
       "      nsecs:         0\n",
       "    frame_id: ''\n",
       "  joint_names: []\n",
       "  points: []\n",
       "multi_dof_joint_trajectory: \n",
       "  header: \n",
       "    seq: 0\n",
       "    stamp: \n",
       "      secs: 0\n",
       "      nsecs:         0\n",
       "    frame_id: ''\n",
       "  joint_names: []\n",
       "  points: []"
      ]
     },
     "execution_count": 41,
     "metadata": {},
     "output_type": "execute_result"
    }
   ],
   "source": [
    "plan1"
   ]
  },
  {
   "cell_type": "code",
   "execution_count": 26,
   "metadata": {},
   "outputs": [
    {
     "data": {
      "text/plain": [
       "joint_trajectory: \n",
       "  header: \n",
       "    seq: 0\n",
       "    stamp: \n",
       "      secs: 0\n",
       "      nsecs:         0\n",
       "    frame_id: ''\n",
       "  joint_names: []\n",
       "  points: []\n",
       "multi_dof_joint_trajectory: \n",
       "  header: \n",
       "    seq: 0\n",
       "    stamp: \n",
       "      secs: 0\n",
       "      nsecs:         0\n",
       "    frame_id: ''\n",
       "  joint_names: []\n",
       "  points: []"
      ]
     },
     "execution_count": 26,
     "metadata": {},
     "output_type": "execute_result"
    }
   ],
   "source": []
  },
  {
   "cell_type": "code",
   "execution_count": 1,
   "metadata": {},
   "outputs": [
    {
     "ename": "NameError",
     "evalue": "name 'group' is not defined",
     "output_type": "error",
     "traceback": [
      "\u001b[0;31m---------------------------------------------------------------------------\u001b[0m",
      "\u001b[0;31mNameError\u001b[0m                                 Traceback (most recent call last)",
      "\u001b[0;32m<ipython-input-1-5f243a5fed70>\u001b[0m in \u001b[0;36m<module>\u001b[0;34m()\u001b[0m\n\u001b[1;32m      2\u001b[0m \u001b[0;34m\u001b[0m\u001b[0m\n\u001b[1;32m      3\u001b[0m \u001b[0;31m# start with the current pose\u001b[0m\u001b[0;34m\u001b[0m\u001b[0;34m\u001b[0m\u001b[0m\n\u001b[0;32m----> 4\u001b[0;31m \u001b[0mwaypoints\u001b[0m\u001b[0;34m.\u001b[0m\u001b[0mappend\u001b[0m\u001b[0;34m(\u001b[0m\u001b[0mgroup\u001b[0m\u001b[0;34m.\u001b[0m\u001b[0mget_current_pose\u001b[0m\u001b[0;34m(\u001b[0m\u001b[0;34m)\u001b[0m\u001b[0;34m.\u001b[0m\u001b[0mpose\u001b[0m\u001b[0;34m)\u001b[0m\u001b[0;34m\u001b[0m\u001b[0m\n\u001b[0m\u001b[1;32m      5\u001b[0m \u001b[0;34m\u001b[0m\u001b[0m\n\u001b[1;32m      6\u001b[0m \u001b[0;31m# first orient gripper and move forward (+x)\u001b[0m\u001b[0;34m\u001b[0m\u001b[0;34m\u001b[0m\u001b[0m\n",
      "\u001b[0;31mNameError\u001b[0m: name 'group' is not defined"
     ]
    }
   ],
   "source": [
    "waypoints = []\n",
    "\n",
    "# start with the current pose\n",
    "waypoints.append(group.get_current_pose().pose)\n",
    "\n",
    "# first orient gripper and move forward (+x)\n",
    "wpose = copy.deepcopy(group.get_current_pose().pose)\n",
    "\n",
    "wpose.position.x += 0.2\n",
    "waypoints.append()\n",
    "\n",
    "\n",
    "\n"
   ]
  },
  {
   "cell_type": "code",
   "execution_count": 26,
   "metadata": {},
   "outputs": [],
   "source": [
    "\n",
    "goal_publisher = rospy.Publisher('/move_group/goal',\n",
    "                                    moveit_msgs.msg.MoveGroupActionGoal,\n",
    "                                    queue_size=20)\n",
    "\n",
    "goal_msg = moveit_msgs.msg.MoveGroupActionGoal()\n",
    "\n",
    "plan1 = group.plan()"
   ]
  },
  {
   "cell_type": "code",
   "execution_count": 27,
   "metadata": {},
   "outputs": [
    {
     "data": {
      "text/plain": [
       "joint_trajectory: \n",
       "  header: \n",
       "    seq: 0\n",
       "    stamp: \n",
       "      secs: 0\n",
       "      nsecs:         0\n",
       "    frame_id: ''\n",
       "  joint_names: []\n",
       "  points: []\n",
       "multi_dof_joint_trajectory: \n",
       "  header: \n",
       "    seq: 0\n",
       "    stamp: \n",
       "      secs: 0\n",
       "      nsecs:         0\n",
       "    frame_id: ''\n",
       "  joint_names: []\n",
       "  points: []"
      ]
     },
     "execution_count": 27,
     "metadata": {},
     "output_type": "execute_result"
    }
   ],
   "source": []
  },
  {
   "cell_type": "code",
   "execution_count": null,
   "metadata": {},
   "outputs": [],
   "source": []
  }
 ],
 "metadata": {
  "kernelspec": {
   "display_name": "Python 2",
   "language": "python",
   "name": "python2"
  },
  "language_info": {
   "codemirror_mode": {
    "name": "ipython",
    "version": 2
   },
   "file_extension": ".py",
   "mimetype": "text/x-python",
   "name": "python",
   "nbconvert_exporter": "python",
   "pygments_lexer": "ipython2",
   "version": "2.7.12"
  }
 },
 "nbformat": 4,
 "nbformat_minor": 2
}
