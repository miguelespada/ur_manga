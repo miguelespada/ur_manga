{
 "cells": [
  {
   "cell_type": "code",
   "execution_count": 52,
   "metadata": {},
   "outputs": [],
   "source": [
    "import sys\n",
    "import copy\n",
    "import rospy\n",
    "import moveit_commander\n",
    "import moveit_msgs.msg\n",
    "import geometry_msgs.msg\n",
    "import math\n",
    "from geometry_msgs.msg import PoseStamped\n",
    "import time\n",
    "import random\n",
    "from tf.transformations import euler_from_quaternion, quaternion_from_euler\n",
    "import numpy as np"
   ]
  },
  {
   "cell_type": "code",
   "execution_count": 2,
   "metadata": {},
   "outputs": [
    {
     "name": "stdout",
     "output_type": "stream",
     "text": [
      "['endeffector', 'manipulator']\n"
     ]
    }
   ],
   "source": [
    "moveit_commander.roscpp_initialize(sys.argv)\n",
    "rospy.init_node('move_group_python_interface_tutorial',\n",
    "                anonymous=True)\n",
    "\n",
    "robot = moveit_commander.RobotCommander()\n",
    "print robot.get_group_names()"
   ]
  },
  {
   "cell_type": "code",
   "execution_count": 3,
   "metadata": {},
   "outputs": [
    {
     "name": "stdout",
     "output_type": "stream",
     "text": [
      "/world\n"
     ]
    }
   ],
   "source": [
    "\n",
    "scene = moveit_commander.PlanningSceneInterface()\n",
    "group = moveit_commander.MoveGroupCommander(\"manipulator\")\n",
    "scene = moveit_commander.PlanningSceneInterface()\n",
    "robot = moveit_commander.RobotCommander()\n",
    "print robot.get_planning_frame()"
   ]
  },
  {
   "cell_type": "code",
   "execution_count": 4,
   "metadata": {},
   "outputs": [],
   "source": [
    "class Point:\n",
    "    def fromString(self, s):\n",
    "        tokens = s.split(',')\n",
    "        self.cord_x = int(tokens[0])\n",
    "        self.cord_y = int(tokens[1])\n",
    "        self.x = float(tokens[2])\n",
    "        self.y = float(tokens[3])\n",
    "        self.deltaDistance = float(tokens[4])\n",
    "        self.deltaAlpha = float(tokens[5])\n",
    "        self.tolerance = float(tokens[6])\n",
    "        \n",
    "    def getPos(self):\n",
    "        h = math.sqrt(self.x*self.x + self.y*self.y)\n",
    "        cosAlpha = self.x / h\n",
    "\n",
    "        alpha = math.acos(cosAlpha)\n",
    "        alpha += self.deltaAlpha\n",
    "        \n",
    "        x2 = (h + self.deltaDistance) * math.cos(alpha)\n",
    "        y2 = (h + self.deltaDistance) * math.sin(alpha)\n",
    "        return (x2, y2)"
   ]
  },
  {
   "cell_type": "code",
   "execution_count": 19,
   "metadata": {},
   "outputs": [
    {
     "name": "stdout",
     "output_type": "stream",
     "text": [
      "Total points loaded:  36\n",
      "Total points loaded:  36\n"
     ]
    }
   ],
   "source": [
    "\n",
    "def loadPoints():\n",
    "    global points\n",
    "    f = open(\"geometria.txt\", 'r')\n",
    "    lines = f.readlines()\n",
    "    points = []\n",
    "    for l in lines:\n",
    "        if \"Punto en (\" in l:\n",
    "            values = l.split(\"(\")[1].split(\")\")[0].split(\",\")[0:2]\n",
    "            points.append(map(lambda x: -float(x) / 1000.0, values))\n",
    "    print \"Total points loaded: \", len(points)       \n",
    "\n",
    "#loadPoints()\n",
    "#generateMatrixFromRhino()\n",
    "\n",
    "def generateMatrixFromRhino():\n",
    "    w, h = 12, 3;\n",
    "    pArray = [[0 for x in range(w)] for y in range(h)] \n",
    "\n",
    "    for r in range(3):\n",
    "        for c in range(12):\n",
    "            p = 35 - (c*3 + r)\n",
    "            pArray[r][c] = points[p] + [DELTA_DISTANCE, DELTA_ALPHA, PUSH_TOLERANCE]\n",
    "\n",
    "    ss = \"x,y,pos_x,pos_y,DELTA_DISTANCE,DELTA_ALPHA,PUSH_TOLERANCE\\n\"\n",
    "    for r in range(3):\n",
    "        for c in range(12):\n",
    "            ss += \"%d,%d,\" % (r, c)\n",
    "            for v in pArray[r][c]:\n",
    "                ss += \"%.6f,\" % v\n",
    "            ss = ss[:-1]\n",
    "            ss += \"\\n\"\n",
    "\n",
    "    f = open(\"space.csv\", \"w\")\n",
    "    f.write(ss)\n",
    "    f.close()\n",
    "\n",
    "def loadMatrix():\n",
    "    global matrix\n",
    "    i = 0\n",
    "    f = open(\"space.csv\",'r')\n",
    "    w, h = 12, 3;\n",
    "    matrix = [[0 for x in range(w)] for y in range(h)] \n",
    "    for l in f.readlines()[1:]:\n",
    "        p = Point()\n",
    "        p.fromString(l)\n",
    "        i += 1\n",
    "        matrix[p.cord_x][p.cord_y] = p\n",
    "    print \"Total points loaded: \", i\n",
    "\n",
    "loadMatrix()\n"
   ]
  },
  {
   "cell_type": "code",
   "execution_count": 130,
   "metadata": {},
   "outputs": [],
   "source": [
    "zeroPose = group.get_current_pose().pose\n",
    "zeroPose.position.x = 0\n",
    "zeroPose.position.y = 0.5\n",
    "zeroPose.position.z = 0.1\n",
    "\n",
    "zeroPose.orientation.x = 0.5\n",
    "zeroPose.orientation.y = 0.5\n",
    "zeroPose.orientation.z = -0.5\n",
    "zeroPose.orientation.w = 0.5\n",
    "\n",
    "initialJoinValues = np.radians([77.32632695,  -69.73220526,  121.29976102, -141.59751593, -90.06095192,  168.36293361])\n",
    "auxPose = copy.deepcopy(zeroPose)\n",
    "\n",
    "group.set_goal_position_tolerance(0.00001)\n",
    "def goToPose(pose):\n",
    "    waypoints = []\n",
    "    waypoints.append(pose)\n",
    "    (plan, fraction) = group.compute_cartesian_path(\n",
    "                         waypoints,   # waypoints to follow\n",
    "                         0.005,        # eef_step\n",
    "                         0.0)         # jump_threshold\n",
    "\n",
    "        #plan = group.retime_trajectory(robot.get_current_state(), plan, 0.08)\n",
    "    if fraction == 1.0: \n",
    "        success = group.execute(plan)\n",
    "        if not(success): print \"Error\"\n",
    "    else:\n",
    "        print fraction\n",
    "\n",
    "\n",
    "DELTA_DISTANCE = -0.02\n",
    "NORMAL_Z = 0.08\n",
    "DELTA_ALPHA = 0.0055\n",
    "PUSH_TOLERANCE = 0.001\n",
    "\n",
    "def goToPoint(p, z = NORMAL_Z):\n",
    "    pose = copy.deepcopy(zeroPose)\n",
    "    pose.position.x = p.getPos()[0]\n",
    "    pose.position.y = p.getPos()[1]\n",
    "    pose.position.z = z\n",
    "    goToPose(pose)\n",
    "    return pose\n",
    "\n",
    "def pushInPlace(pose, tol = PUSH_TOLERANCE):\n",
    "    # Tolerancia [-0.002, 0.004]\n",
    "    waypoints = []\n",
    "    waypoints.append(copy.deepcopy(pose))\n",
    "    pose.position.z = 0.055 + tol \n",
    "    waypoints.append(copy.deepcopy(pose))\n",
    "    pose.position.z = 0.1\n",
    "    waypoints.append(copy.deepcopy(pose))\n",
    "    (plan, fraction) = group.compute_cartesian_path(\n",
    "                         waypoints,   # waypoints to follow\n",
    "                         0.0003,        # eef_step\n",
    "                         0.0)         # jump_threshold\n",
    "    if fraction == 1.0: \n",
    "        success = group.execute(plan)\n",
    "        if not(success): print \"Error\"\n",
    "    else:\n",
    "        print fraction\n",
    "\n",
    "def setScene():\n",
    "    scene.remove_world_object(\"floor\")\n",
    "    scene.remove_world_object(\"wall\")\n",
    "    scene.remove_attached_object(\"box\")\n",
    "\n",
    "    p = PoseStamped()\n",
    "    p.header.frame_id = robot.get_planning_frame()\n",
    "    p.pose.position.x = 0.\n",
    "    p.pose.position.y = -0.8\n",
    "    p.pose.position.z = 0.1\n",
    "    scene.add_box(\"obstacle\", p, (0.2, 0.4, 0.2))\n",
    "    scene.remove_world_object(\"obstacle\")\n",
    "\n",
    "    p = PoseStamped()\n",
    "    p.header.frame_id = robot.get_planning_frame()\n",
    "    p.pose.position.x = 0\n",
    "    p.pose.position.y = 0\n",
    "    p.pose.position.z = -0.15\n",
    "    scene.add_box(\"floor\", p, (2, 2, 0.2))\n",
    "\n",
    "\n",
    "    p = PoseStamped()\n",
    "    p.header.frame_id = robot.get_planning_frame()\n",
    "    p.pose.position.x = 0\n",
    "    p.pose.position.y = -0.4\n",
    "    p.pose.position.z = 0\n",
    "    scene.add_box(\"wall\", p, (2, 0.2, 2))\n",
    "\n",
    "    p = PoseStamped()\n",
    "    p.header.frame_id = robot.get_planning_frame()\n",
    "    p = robot.get_link(\"ee_link\").pose()\n",
    "    p.pose.position.z -= 0.043\n",
    "    scene.attach_box(robot.get_link(\"ee_link\").name(), \"box\", p, size= (0.086, 0.05, 0.05))\n",
    "\n",
    "setScene()\n",
    "\n",
    "def pushAll():\n",
    "    goToPose(zeroPose)\n",
    "    for i in range(12):\n",
    "        for j in range(3):\n",
    "            pushOne(j, i)\n",
    "            time.sleep(0.1)\n",
    "    goToPose(zeroPose)\n",
    "\n",
    "def pushTwo((x0, y0), (x1, y1)):\n",
    "    loadMatrix()\n",
    "    before = time.time()\n",
    "    pushOne(x0, y0)\n",
    "    time.sleep(0.1)\n",
    "    pushOne(x1, y1)\n",
    "    print \"Total time\", time.time() - before\n",
    "    \n",
    "def pushOne(x, y):\n",
    "    p = matrix[x][y]\n",
    "    pose = goToPoint(p)\n",
    "    time.sleep(0.1)\n",
    "   # pushInPlace(pose, p.tolerance)\n",
    "    \n",
    "def createPath(coords, last = (2, 6)):\n",
    "    loadMatrix()\n",
    "    before = time.time()\n",
    "    for coord in coords:\n",
    "        if abs(last[0] - coord[0]) +  abs(last[1] - coord[1]) > 6:\n",
    "            midX = last[0]\n",
    "            midY = max(last[1], coord[1]) - abs(last[1] - coord[1]) / 2\n",
    "            goToPoint(matrix[midX][midY])\n",
    "            time.sleep(0.1)\n",
    "        pushOne(coord[0], coord[1])\n",
    "        last = coord\n",
    "    print \"Length\", len(coords)\n",
    "    print \"Total time\", time.time() - before"
   ]
  },
  {
   "cell_type": "code",
   "execution_count": 128,
   "metadata": {},
   "outputs": [
    {
     "name": "stdout",
     "output_type": "stream",
     "text": [
      "Total points loaded:  36\n",
      "Total time 2.55127382278\n"
     ]
    }
   ],
   "source": [
    "pushTwo((0, 0), (2, 1))"
   ]
  },
  {
   "cell_type": "code",
   "execution_count": 38,
   "metadata": {},
   "outputs": [],
   "source": [
    "pushAll()"
   ]
  },
  {
   "cell_type": "code",
   "execution_count": 96,
   "metadata": {},
   "outputs": [],
   "source": [
    "pushOne(2, 1)"
   ]
  },
  {
   "cell_type": "code",
   "execution_count": 131,
   "metadata": {},
   "outputs": [
    {
     "name": "stdout",
     "output_type": "stream",
     "text": [
      "Total points loaded:  36\n",
      "Length 9\n",
      "Total time 21.0001060963\n"
     ]
    }
   ],
   "source": [
    "createPath([(0, 0), (2, 4), (2, 1), (2, 9), (0, 0), (2, 8), (2, 11), (2, 7), (0, 3)])"
   ]
  },
  {
   "cell_type": "code",
   "execution_count": 133,
   "metadata": {},
   "outputs": [
    {
     "name": "stdout",
     "output_type": "stream",
     "text": [
      "Total points loaded:  36\n",
      "Length 4\n",
      "Total time 15.5900099277\n"
     ]
    }
   ],
   "source": [
    "createPath([[0,0],[2,11],[2,0],[0,11]])"
   ]
  },
  {
   "cell_type": "code",
   "execution_count": null,
   "metadata": {},
   "outputs": [],
   "source": []
  }
 ],
 "metadata": {
  "kernelspec": {
   "display_name": "Python 2",
   "language": "python",
   "name": "python2"
  },
  "language_info": {
   "codemirror_mode": {
    "name": "ipython",
    "version": 2
   },
   "file_extension": ".py",
   "mimetype": "text/x-python",
   "name": "python",
   "nbconvert_exporter": "python",
   "pygments_lexer": "ipython2",
   "version": "2.7.12"
  }
 },
 "nbformat": 4,
 "nbformat_minor": 2
}
