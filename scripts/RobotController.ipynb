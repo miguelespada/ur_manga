{
 "cells": [
  {
   "cell_type": "code",
   "execution_count": 1,
   "metadata": {},
   "outputs": [
    {
     "name": "stdout",
     "output_type": "stream",
     "text": [
      "Manipulator detected\n",
      "World detetected\n",
      "Initial Join values should be [77.32632695, -69.73220526, 121.29976102, -141.59751593, -90.06095192, 168.36293361]\n",
      "Loading points\n",
      "Total points loaded:  36\n",
      "Setting Scene\n",
      "Definning zeroPose\n"
     ]
    }
   ],
   "source": [
    "from controllerLib import *\n",
    "robot, scene, group, zeroPose  = initRobot()"
   ]
  },
  {
   "cell_type": "code",
   "execution_count": 3,
   "metadata": {},
   "outputs": [
    {
     "name": "stdout",
     "output_type": "stream",
     "text": [
      "Adding Constraints\n"
     ]
    }
   ],
   "source": [
    "goToZero()"
   ]
  },
  {
   "cell_type": "code",
   "execution_count": 3,
   "metadata": {},
   "outputs": [
    {
     "name": "stdout",
     "output_type": "stream",
     "text": [
      "Total points loaded:  36\n",
      "Total time 4.40146899223\n"
     ]
    }
   ],
   "source": [
    "pushTwo((2, 7), (2, 10))"
   ]
  },
  {
   "cell_type": "code",
   "execution_count": 4,
   "metadata": {},
   "outputs": [
    {
     "name": "stdout",
     "output_type": "stream",
     "text": [
      "Error\n"
     ]
    }
   ],
   "source": [
    "pushAll()"
   ]
  },
  {
   "cell_type": "code",
   "execution_count": 4,
   "metadata": {},
   "outputs": [
    {
     "name": "stdout",
     "output_type": "stream",
     "text": [
      "Error\n"
     ]
    }
   ],
   "source": [
    "pushOne(2, 1)"
   ]
  },
  {
   "cell_type": "code",
   "execution_count": 3,
   "metadata": {},
   "outputs": [
    {
     "name": "stdout",
     "output_type": "stream",
     "text": [
      "Total points loaded:  36\n",
      "Length 9\n",
      "Total time 28.9839551449\n"
     ]
    }
   ],
   "source": [
    "createPath([(0, 0), (2, 4), (2, 1), (2, 9), (0, 0), (2, 8), (2, 11), (2, 7), (0, 3)])"
   ]
  },
  {
   "cell_type": "code",
   "execution_count": 4,
   "metadata": {
    "scrolled": true
   },
   "outputs": [
    {
     "name": "stdout",
     "output_type": "stream",
     "text": [
      "Total points loaded:  36\n",
      "Length 4\n",
      "Total time 17.9420590401\n"
     ]
    }
   ],
   "source": [
    "createPath([[0,0],[2,11],[2,0],[0,11]])"
   ]
  },
  {
   "cell_type": "code",
   "execution_count": 5,
   "metadata": {},
   "outputs": [
    {
     "data": {
      "text/plain": [
       "<moveit_commander.robot.RobotCommander at 0x7f6d146a9590>"
      ]
     },
     "execution_count": 5,
     "metadata": {},
     "output_type": "execute_result"
    }
   ],
   "source": [
    "robot"
   ]
  },
  {
   "cell_type": "code",
   "execution_count": null,
   "metadata": {},
   "outputs": [],
   "source": []
  }
 ],
 "metadata": {
  "kernelspec": {
   "display_name": "Python 2",
   "language": "python",
   "name": "python2"
  },
  "language_info": {
   "codemirror_mode": {
    "name": "ipython",
    "version": 2
   },
   "file_extension": ".py",
   "mimetype": "text/x-python",
   "name": "python",
   "nbconvert_exporter": "python",
   "pygments_lexer": "ipython2",
   "version": "2.7.12"
  }
 },
 "nbformat": 4,
 "nbformat_minor": 2
}
