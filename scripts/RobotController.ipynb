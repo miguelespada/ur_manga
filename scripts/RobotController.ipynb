{
 "cells": [
  {
   "cell_type": "code",
   "execution_count": 1,
   "metadata": {},
   "outputs": [
    {
     "name": "stdout",
     "output_type": "stream",
     "text": [
      "Manipulator detected\n",
      "World detetected\n",
      "Initial Join values should be [77.32632695, -69.73220526, 121.29976102, -141.59751593, -90.06095192, 168.36293361]\n",
      "Loading points\n",
      "Total points loaded:  36\n",
      "Setting Scene\n",
      "Definning zeroPose\n"
     ]
    }
   ],
   "source": [
    "from controllerLib import *\n",
    "robot, scene, group, zeroPose  = initRobot()"
   ]
  },
  {
   "cell_type": "code",
   "execution_count": 2,
   "metadata": {},
   "outputs": [
    {
     "name": "stdout",
     "output_type": "stream",
     "text": [
      "Adding Constraints\n"
     ]
    }
   ],
   "source": [
    "group.stop"
   ]
  },
  {
   "cell_type": "code",
   "execution_count": 3,
   "metadata": {},
   "outputs": [
    {
     "name": "stdout",
     "output_type": "stream",
     "text": [
      "Total points loaded:  36\n",
      "Total time 4.43101787567\n"
     ]
    }
   ],
   "source": [
    "pushTwo((2, 7), (2, 10))"
   ]
  },
  {
   "cell_type": "code",
   "execution_count": 3,
   "metadata": {},
   "outputs": [],
   "source": [
    "pushAll()"
   ]
  },
  {
   "cell_type": "code",
   "execution_count": 4,
   "metadata": {},
   "outputs": [],
   "source": [
    "pushOne(2, 1)"
   ]
  },
  {
   "cell_type": "code",
   "execution_count": 42,
   "metadata": {},
   "outputs": [
    {
     "name": "stdout",
     "output_type": "stream",
     "text": [
      "Total points loaded:  36\n",
      "Length 9\n",
      "Total time 27.5369870663\n"
     ]
    }
   ],
   "source": [
    "createPath([(0, 0), (2, 4), (2, 1), (2, 9), (0, 0), (2, 8), (2, 11), (2, 7), (0, 3)])"
   ]
  },
  {
   "cell_type": "code",
   "execution_count": 5,
   "metadata": {
    "scrolled": true
   },
   "outputs": [
    {
     "name": "stdout",
     "output_type": "stream",
     "text": [
      "Total points loaded:  36\n",
      "Length 4\n",
      "Total time 18.0489480495\n"
     ]
    }
   ],
   "source": [
    "createPath([[0,0],[2,11],[2,0],[0,11]])"
   ]
  },
  {
   "cell_type": "code",
   "execution_count": 1,
   "metadata": {},
   "outputs": [],
   "source": [
    "import sys\n",
    "import copy\n",
    "import rospy\n",
    "import moveit_commander\n",
    "import moveit_msgs.msg\n",
    "import geometry_msgs.msg\n",
    "import math\n",
    "from geometry_msgs.msg import PoseStamped\n",
    "import time\n",
    "import random\n",
    "from tf.transformations import euler_from_quaternion, quaternion_from_euler\n",
    "import numpy as np\n",
    "from moveit_msgs.msg import Constraints, OrientationConstraint\n",
    "\n"
   ]
  },
  {
   "cell_type": "code",
   "execution_count": 2,
   "metadata": {},
   "outputs": [],
   "source": [
    "moveit_commander.roscpp_initialize(sys.argv)"
   ]
  },
  {
   "cell_type": "code",
   "execution_count": 5,
   "metadata": {},
   "outputs": [],
   "source": [
    "rospy.init_node('move_group_python_interface',anonymous=True)"
   ]
  },
  {
   "cell_type": "code",
   "execution_count": 21,
   "metadata": {},
   "outputs": [
    {
     "name": "stdout",
     "output_type": "stream",
     "text": [
      "Help on function signal_shutdown in module rospy.core:\n",
      "\n",
      "signal_shutdown(reason)\n",
      "    Initiates shutdown process by signaling objects waiting on _shutdown_lock.\n",
      "    Shutdown and pre-shutdown hooks are invoked.\n",
      "    @param reason: human-readable shutdown reason, if applicable\n",
      "    @type  reason: str\n",
      "\n"
     ]
    }
   ],
   "source": [
    "help(rospy.signal_shutdown)"
   ]
  },
  {
   "cell_type": "code",
   "execution_count": 4,
   "metadata": {},
   "outputs": [],
   "source": [
    "rospy.signal_shutdown(\"final\")"
   ]
  },
  {
   "cell_type": "code",
   "execution_count": 8,
   "metadata": {},
   "outputs": [
    {
     "name": "stdout",
     "output_type": "stream",
     "text": [
      "0,0\n",
      "2,11\n",
      "2,0\n",
      "0,11\n",
      "[[0, 0], [2, 11], [2, 0], [0, 11]]\n"
     ]
    }
   ],
   "source": [
    "trajectory = \"0,0;2,11;2,0;0,11\"\n",
    "tokens = trajectory.split(\";\")\n",
    "tPoints = []\n",
    "for t in tokens:\n",
    "    tPoints.append(map(lambda x: int(x), t.split(\",\")))\n",
    "print tPoints"
   ]
  },
  {
   "cell_type": "code",
   "execution_count": null,
   "metadata": {},
   "outputs": [],
   "source": []
  }
 ],
 "metadata": {
  "kernelspec": {
   "display_name": "Python 2",
   "language": "python",
   "name": "python2"
  },
  "language_info": {
   "codemirror_mode": {
    "name": "ipython",
    "version": 2
   },
   "file_extension": ".py",
   "mimetype": "text/x-python",
   "name": "python",
   "nbconvert_exporter": "python",
   "pygments_lexer": "ipython2",
   "version": "2.7.12"
  }
 },
 "nbformat": 4,
 "nbformat_minor": 2
}
