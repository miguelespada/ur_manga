{
 "cells": [
  {
   "cell_type": "code",
   "execution_count": 1,
   "metadata": {},
   "outputs": [],
   "source": [
    "import sys\n",
    "import copy\n",
    "import rospy\n",
    "import moveit_commander\n",
    "import moveit_msgs.msg\n",
    "import geometry_msgs.msg\n",
    "\n",
    "from geometry_msgs.msg import PoseStamped\n",
    "\n",
    "from tf.transformations import euler_from_quaternion, quaternion_from_euler\n",
    "import numpy as np"
   ]
  },
  {
   "cell_type": "code",
   "execution_count": 2,
   "metadata": {},
   "outputs": [
    {
     "name": "stdout",
     "output_type": "stream",
     "text": [
      "============ Starting tutorial setup\n"
     ]
    }
   ],
   "source": [
    "print \"============ Starting tutorial setup\"\n",
    "moveit_commander.roscpp_initialize(sys.argv)\n",
    "rospy.init_node('move_group_python_interface_tutorial',\n",
    "                anonymous=True)"
   ]
  },
  {
   "cell_type": "code",
   "execution_count": 3,
   "metadata": {},
   "outputs": [],
   "source": [
    "robot = moveit_commander.RobotCommander()"
   ]
  },
  {
   "cell_type": "code",
   "execution_count": 4,
   "metadata": {},
   "outputs": [
    {
     "data": {
      "text/plain": [
       "['endeffector', 'manipulator']"
      ]
     },
     "execution_count": 4,
     "metadata": {},
     "output_type": "execute_result"
    }
   ],
   "source": [
    "robot.get_group_names()"
   ]
  },
  {
   "cell_type": "code",
   "execution_count": 5,
   "metadata": {},
   "outputs": [
    {
     "data": {
      "text/plain": [
       "['ASSUMED_FIXED_ROOT_JOINT',\n",
       " 'world_joint',\n",
       " 'base_link-base_fixed_joint',\n",
       " 'shoulder_pan_joint',\n",
       " 'shoulder_lift_joint',\n",
       " 'elbow_joint',\n",
       " 'wrist_1_joint',\n",
       " 'wrist_2_joint',\n",
       " 'wrist_3_joint',\n",
       " 'ee_fixed_joint',\n",
       " 'wrist_3_link-tool0_fixed_joint']"
      ]
     },
     "execution_count": 5,
     "metadata": {},
     "output_type": "execute_result"
    }
   ],
   "source": [
    "robot.get_joint_names()"
   ]
  },
  {
   "cell_type": "code",
   "execution_count": 6,
   "metadata": {},
   "outputs": [],
   "source": [
    "scene = moveit_commander.PlanningSceneInterface()\n",
    "group = moveit_commander.MoveGroupCommander(\"manipulator\")\n",
    "scene = moveit_commander.PlanningSceneInterface()\n",
    "robot = moveit_commander.RobotCommander()\n",
    "print robot.get_planning_frame()\n"
   ]
  },
  {
   "cell_type": "code",
   "execution_count": 7,
   "metadata": {},
   "outputs": [],
   "source": []
  },
  {
   "cell_type": "code",
   "execution_count": 8,
   "metadata": {},
   "outputs": [
    {
     "data": {
      "text/plain": [
       "'/world'"
      ]
     },
     "execution_count": 8,
     "metadata": {},
     "output_type": "execute_result"
    }
   ],
   "source": []
  },
  {
   "cell_type": "code",
   "execution_count": 9,
   "metadata": {},
   "outputs": [],
   "source": [
    "\n"
   ]
  },
  {
   "cell_type": "code",
   "execution_count": 10,
   "metadata": {
    "scrolled": true
   },
   "outputs": [
    {
     "name": "stdout",
     "output_type": "stream",
     "text": [
      "header: \n",
      "  seq: 0\n",
      "  stamp: \n",
      "    secs: 1508581436\n",
      "    nsecs: 869122028\n",
      "  frame_id: /world\n",
      "pose: \n",
      "  position: \n",
      "    x: -0.00713136303917\n",
      "    y: 0.668372222968\n",
      "    z: 0.0983183781403\n",
      "  orientation: \n",
      "    x: -0.0335742420499\n",
      "    y: 0.693696777508\n",
      "    z: 0.0608308028075\n",
      "    w: 0.716908058663\n"
     ]
    }
   ],
   "source": []
  },
  {
   "cell_type": "code",
   "execution_count": 36,
   "metadata": {},
   "outputs": [
    {
     "data": {
      "text/plain": [
       "x: 0.610161194149\n",
       "y: 0.251941120783\n",
       "z: -0.668951362971\n",
       "w: 0.341662205683"
      ]
     },
     "execution_count": 36,
     "metadata": {},
     "output_type": "execute_result"
    }
   ],
   "source": []
  },
  {
   "cell_type": "code",
   "execution_count": 37,
   "metadata": {},
   "outputs": [
    {
     "name": "stdout",
     "output_type": "stream",
     "text": [
      "start_pose.orientation.x = 0.610161194149 ;\n",
      "start_pose.orientation.y = 0.251941120783 ;\n",
      "start_pose.orientation.z = -0.668951362971 ;\n",
      "start_pose.orientation.w = 0.341662205683 ;\n",
      "start_pose.position.x = -0.204612917304 ;\n",
      "start_pose.position.y = -0.584701611682 ;\n",
      "start_pose.position.z = 0.0517568746012 ;\n"
     ]
    }
   ],
   "source": [
    "print \"start_pose.orientation.x =\", pose.pose.orientation.x, \";\"\n",
    "print \"start_pose.orientation.y =\", pose.pose.orientation.y, \";\"\n",
    "print \"start_pose.orientation.z =\", pose.pose.orientation.z, \";\"\n",
    "print \"start_pose.orientation.w =\", pose.pose.orientation.w, \";\"\n",
    "\n",
    "print \"start_pose.position.x =\", pose.pose.position.x, \";\"\n",
    "print \"start_pose.position.y =\", pose.pose.position.y, \";\"\n",
    "print \"start_pose.position.z =\", pose.pose.position.z, \";\"\n"
   ]
  },
  {
   "cell_type": "code",
   "execution_count": 42,
   "metadata": {},
   "outputs": [],
   "source": [
    "zeroPose = group.get_current_pose().pose\n",
    "zeroPose.position.x = 0\n",
    "zeroPose.position.y = 0.5\n",
    "zeroPose.position.z = 0.1\n",
    "\n",
    "zeroPose.orientation.x = 0.5\n",
    "zeroPose.orientation.y = 0.5\n",
    "zeroPose.orientation.z = -0.5\n",
    "zeroPose.orientation.w = 0.5\n",
    "\n",
    "initialJoinValues = np.radians([77.32632695,  -69.73220526,  121.29976102, -141.59751593, -90.06095192,  168.36293361])\n",
    "\n",
    "def goToPose(pose):\n",
    "    waypoints = []\n",
    "    waypoints.append(pose)\n",
    "    (plan, fraction) = group.compute_cartesian_path(\n",
    "                         waypoints,   # waypoints to follow\n",
    "                         0.005,        # eef_step\n",
    "                         0.0)         # jump_threshold\n",
    "    print fraction\n",
    "    if fraction == 1.0: \n",
    "        plan = group.retime_trajectory(robot.get_current_state(), plan, 0.08)\n",
    "        group.execute(plan)\n"
   ]
  },
  {
   "cell_type": "code",
   "execution_count": 39,
   "metadata": {},
   "outputs": [],
   "source": [
    "def pulsaBoton(waypoints, i, tol = 0.023):\n",
    "    wpose = geometry_msgs.msg.Pose()\n",
    "    wpose.orientation.x = 0.5\n",
    "    wpose.orientation.y = 0.5\n",
    "    wpose.orientation.z = -0.5\n",
    "    wpose.orientation.w = 0.5\n",
    "    wpose.position.x = waypoints[0].position.x + (0.07 * i)\n",
    "    wpose.position.y = waypoints[0].position.y\n",
    "    wpose.position.z = waypoints[0].position.z\n",
    "    waypoints.append(copy.deepcopy(wpose))\n",
    "    wpose.position.z = wpose.position.z - (tol/2)\n",
    "    waypoints.append(copy.deepcopy(wpose))\n",
    "    wpose.position.z = wpose.position.z - (tol/2)\n",
    "    waypoints.append(copy.deepcopy(wpose))\n",
    "    wpose.position.z = wpose.position.z + (tol/2)\n",
    "    waypoints.append(copy.deepcopy(wpose))\n",
    "    wpose.position.z = wpose.position.z + (tol/2)\n",
    "    waypoints.append(copy.deepcopy(wpose))\n",
    "\n"
   ]
  },
  {
   "cell_type": "code",
   "execution_count": 40,
   "metadata": {},
   "outputs": [
    {
     "name": "stdout",
     "output_type": "stream",
     "text": [
      "1.0\n"
     ]
    }
   ],
   "source": [
    "goToPose(zeroPose)"
   ]
  },
  {
   "cell_type": "code",
   "execution_count": 32,
   "metadata": {},
   "outputs": [],
   "source": [
    "state = robot.get_current_state()"
   ]
  },
  {
   "cell_type": "code",
   "execution_count": 36,
   "metadata": {},
   "outputs": [
    {
     "data": {
      "text/plain": [
       "array([  77.32632695,  -69.73220526,  121.29976102, -141.59751593,\n",
       "        -90.06095192,  168.36293361])"
      ]
     },
     "execution_count": 36,
     "metadata": {},
     "output_type": "execute_result"
    }
   ],
   "source": [
    "np.degrees(state.joint_state.position)"
   ]
  },
  {
   "cell_type": "code",
   "execution_count": 36,
   "metadata": {},
   "outputs": [],
   "source": [
    "waypoints = []\n",
    "waypoints.append(zeroPose)\n",
    "pulsaBoton(waypoints, 1)\n",
    "pulsaBoton(waypoints, 5)\n"
   ]
  },
  {
   "cell_type": "code",
   "execution_count": null,
   "metadata": {},
   "outputs": [],
   "source": []
  },
  {
   "cell_type": "code",
   "execution_count": 38,
   "metadata": {},
   "outputs": [
    {
     "name": "stdout",
     "output_type": "stream",
     "text": [
      "1.0\n"
     ]
    }
   ],
   "source": [
    "group.set_max_velocity_scaling_factor(0.05)\n",
    "group.set_max_acceleration_scaling_factor(0.05)\n",
    "\n",
    "(plan, fraction) = group.compute_cartesian_path(\n",
    "                             waypoints,   # waypoints to follow\n",
    "                             0.01,        # eef_step\n",
    "                             0.00)         # jump_threshold\n",
    "plan = group.retime_trajectory(robot.get_current_state(), plan, 2)\n",
    "\n",
    "print fraction"
   ]
  },
  {
   "cell_type": "code",
   "execution_count": 39,
   "metadata": {},
   "outputs": [
    {
     "data": {
      "text/plain": [
       "True"
      ]
     },
     "execution_count": 39,
     "metadata": {},
     "output_type": "execute_result"
    }
   ],
   "source": [
    "group.execute(plan)"
   ]
  },
  {
   "cell_type": "code",
   "execution_count": 25,
   "metadata": {},
   "outputs": [
    {
     "name": "stdout",
     "output_type": "stream",
     "text": [
      "0.370044052863\n"
     ]
    }
   ],
   "source": [
    "goToZero()"
   ]
  },
  {
   "cell_type": "code",
   "execution_count": 77,
   "metadata": {},
   "outputs": [],
   "source": []
  },
  {
   "cell_type": "code",
   "execution_count": 134,
   "metadata": {},
   "outputs": [],
   "source": [
    "    "
   ]
  },
  {
   "cell_type": "code",
   "execution_count": 434,
   "metadata": {},
   "outputs": [
    {
     "name": "stdout",
     "output_type": "stream",
     "text": [
      "Fraction:  0.0\n"
     ]
    },
    {
     "data": {
      "text/plain": [
       "False"
      ]
     },
     "execution_count": 434,
     "metadata": {},
     "output_type": "execute_result"
    }
   ],
   "source": [
    "import random\n",
    "listB = range(6)\n",
    "random.shuffle(listB )\n",
    "\n",
    "waypoints = []\n",
    "waypoints.append(zeroPose)\n",
    "listB = range(6)\n",
    "random.shuffle(listB )\n",
    "for i in listB:\n",
    "    pulsaBoton(waypoints, i)\n",
    "(plan, fraction) = group.compute_cartesian_path(\n",
    "                         waypoints,   # waypoints to follow\n",
    "                         0.005,        # eef_step\n",
    "                         0.0)         # jump_threshold\n",
    "print \"Fraction: \", fraction\n",
    "\n",
    "plan = group.retime_trajectory(robot.get_current_state(), plan, 0.08)\n",
    "group.execute(plan)\n",
    "\n",
    "\n"
   ]
  },
  {
   "cell_type": "code",
   "execution_count": 345,
   "metadata": {},
   "outputs": [],
   "source": []
  },
  {
   "cell_type": "code",
   "execution_count": 346,
   "metadata": {},
   "outputs": [],
   "source": []
  },
  {
   "cell_type": "code",
   "execution_count": 18,
   "metadata": {},
   "outputs": [
    {
     "name": "stdout",
     "output_type": "stream",
     "text": [
      "Total:  36\n"
     ]
    }
   ],
   "source": [
    "f = open(\"geometria.txt\", 'r')\n",
    "lines = f.readlines()\n",
    "points = []\n",
    "for l in lines:\n",
    "    if \"Punto en (\" in l:\n",
    "        values = l.split(\"(\")[1].split(\")\")[0].split(\",\")[0:2]\n",
    "        points.append(map(lambda x: float(x) / 10.0, values))\n",
    "print \"Total: \", len(points)       "
   ]
  },
  {
   "cell_type": "code",
   "execution_count": 23,
   "metadata": {},
   "outputs": [],
   "source": [
    "group.allow_replanning(True)\n",
    "group.allow_looking(True)\n",
    "\n",
    "def goToPoint(i, execute=True):\n",
    "    waypoints = []\n",
    "    pose =  group.get_current_pose().pose\n",
    "    waypoints.append(pose)\n",
    "    wpose = geometry_msgs.msg.Pose()\n",
    "    wpose.orientation.x = 0.5\n",
    "    wpose.orientation.y = 0.5\n",
    "    wpose.orientation.z = -0.5\n",
    "    wpose.orientation.w = 0.5\n",
    "    wpose.position.x = points[i][0] / 100\n",
    "    wpose.position.y = .points[i][1] / 100\n",
    "    wpose.position.z = 0.1\n",
    "    waypoints.append(copy.deepcopy(wpose))\n",
    "    \n",
    "    (plan, fraction) = group.compute_cartesian_path(\n",
    "                         waypoints,   # waypoints to follow\n",
    "                         0.1,        # eef_step\n",
    "                         0.0000, False)         # jump_threshold\n",
    "    print \"Fraction: \", fraction\n",
    "    plan = group.retime_trajectory(robot.get_current_state(), plan, 0.2)\n",
    "    if execute and fraction == 1.0:\n",
    "        group.execute(plan)"
   ]
  },
  {
   "cell_type": "code",
   "execution_count": 24,
   "metadata": {},
   "outputs": [
    {
     "name": "stdout",
     "output_type": "stream",
     "text": [
      "Fraction:  1.0\n"
     ]
    }
   ],
   "source": [
    "#for i in range(36):\n",
    "#    goToPoint(i)\n",
    "\n",
    "goToPoint(18)"
   ]
  },
  {
   "cell_type": "code",
   "execution_count": 139,
   "metadata": {},
   "outputs": [],
   "source": [
    "zeroPose = group.get_current_pose().pose\n"
   ]
  },
  {
   "cell_type": "code",
   "execution_count": 140,
   "metadata": {},
   "outputs": [
    {
     "data": {
      "text/plain": [
       "position: \n",
       "  x: 0.0371944240549\n",
       "  y: -0.477343383423\n",
       "  z: 0.33158252199\n",
       "orientation: \n",
       "  x: -0.519799578703\n",
       "  y: 0.452835065289\n",
       "  z: 0.572651180878\n",
       "  w: 0.443643355257"
      ]
     },
     "execution_count": 140,
     "metadata": {},
     "output_type": "execute_result"
    }
   ],
   "source": [
    "zeroPose"
   ]
  },
  {
   "cell_type": "code",
   "execution_count": 138,
   "metadata": {},
   "outputs": [
    {
     "data": {
      "text/plain": [
       "position: \n",
       "  x: -0.470271979396\n",
       "  y: -0.694113931605\n",
       "  z: 0.133951472553\n",
       "orientation: \n",
       "  x: -0.429213022331\n",
       "  y: 0.595713730535\n",
       "  z: 0.350665661216\n",
       "  w: 0.581321706766"
      ]
     },
     "execution_count": 138,
     "metadata": {},
     "output_type": "execute_result"
    }
   ],
   "source": [
    "group.get_current_pose().pose"
   ]
  },
  {
   "cell_type": "code",
   "execution_count": 379,
   "metadata": {},
   "outputs": [
    {
     "data": {
      "text/plain": [
       "-4.5430399999999995"
      ]
     },
     "execution_count": 379,
     "metadata": {},
     "output_type": "execute_result"
    }
   ],
   "source": [
    "points[-1][1]"
   ]
  },
  {
   "cell_type": "code",
   "execution_count": 96,
   "metadata": {},
   "outputs": [],
   "source": [
    "def fromTo(i, j, execute):\n",
    "    tol = 0.\n",
    "    waypoints = []\n",
    "    sleep(0.1)\n",
    "    pose =  group.get_current_pose().pose\n",
    "    wpose = geometry_msgs.msg.Pose()\n",
    "    wpose.orientation.x = 0.5\n",
    "    wpose.orientation.y = 0.5\n",
    "    wpose.orientation.z = -0.5\n",
    "    wpose.orientation.w = 0.5\n",
    "    wpose.position.x = points[i][0] / 100\n",
    "    wpose.position.y = points[i][1] / 100\n",
    "    wpose.position.z = pose.position.z\n",
    "    waypoints.append(copy.deepcopy(wpose))\n",
    "    wpose.position.z = wpose.position.z - (tol/2)\n",
    "     waypoints.append(copy.deepcopy(wpose))\n",
    "    \n",
    "    if(abs(i - j) >= 23):\n",
    "        wpose.position.x = points[17][0] / 100\n",
    "        wpose.position.y = points[17][1] / 100\n",
    "        waypoints.append(copy.deepcopy(wpose))\n",
    "    \n",
    "    wpose.position.x = points[j][0] / 100\n",
    "    wpose.position.y = points[j][1] / 100\n",
    "    waypoints.append(copy.deepcopy(wpose))\n",
    "    \n",
    "    wpose.position.x = points[17][0] / 100\n",
    "    wpose.position.y = points[17][1] / 100\n",
    "    waypoints.append(copy.deepcopy(wpose))\n",
    "    \n",
    "    (plan, fraction) = group.compute_cartesian_path(\n",
    "                         waypoints,   # waypoints to follow\n",
    "                         0.01,        # eef_step\n",
    "                         0.0, False)         # jump_threshold\n",
    "    if fraction != 1.0:\n",
    "        print \"Fraction: \", i ,j, fraction\n",
    "    \n",
    "    plan = group.retime_trajectory(robot.get_current_state(), plan, 0.7)\n",
    "    if execute:\n",
    "        print group.execute(plan)"
   ]
  },
  {
   "cell_type": "code",
   "execution_count": 100,
   "metadata": {},
   "outputs": [
    {
     "name": "stdout",
     "output_type": "stream",
     "text": [
      "True\n",
      "Fraction:  1 23 0.0768115942029\n",
      "False\n",
      "False\n",
      "False\n",
      "False\n",
      "False\n",
      "False\n",
      "Fraction:  2 28 0.0721088435374\n",
      "False\n",
      "False\n",
      "False\n"
     ]
    }
   ],
   "source": [
    "from random import randint\n",
    "from time import sleep\n",
    "group.set_goal_joint_tolerance(0.1)\n",
    "for i in range(10):\n",
    "    fromTo(randint(0, 35), randint(0, 35), True)\n"
   ]
  },
  {
   "cell_type": "code",
   "execution_count": 82,
   "metadata": {},
   "outputs": [
    {
     "data": {
      "text/plain": [
       "[-2.8354030634862633, 1.570422923183557, 1.876991917288172]"
      ]
     },
     "execution_count": 82,
     "metadata": {},
     "output_type": "execute_result"
    }
   ],
   "source": [
    "group.get_current_rpy()"
   ]
  },
  {
   "cell_type": "code",
   "execution_count": 108,
   "metadata": {},
   "outputs": [],
   "source": [
    "group.set_rpy_target([0.6, 1.4200971760862233, -1.157352193535225])"
   ]
  },
  {
   "cell_type": "code",
   "execution_count": 109,
   "metadata": {},
   "outputs": [],
   "source": [
    "a = group.plan()"
   ]
  },
  {
   "cell_type": "code",
   "execution_count": 110,
   "metadata": {},
   "outputs": [
    {
     "data": {
      "text/plain": [
       "False"
      ]
     },
     "execution_count": 110,
     "metadata": {},
     "output_type": "execute_result"
    }
   ],
   "source": [
    "group.execute(a)"
   ]
  },
  {
   "cell_type": "code",
   "execution_count": 13,
   "metadata": {},
   "outputs": [],
   "source": [
    "goToZero()"
   ]
  },
  {
   "cell_type": "code",
   "execution_count": 15,
   "metadata": {},
   "outputs": [
    {
     "data": {
      "text/plain": [
       "position: \n",
       "  x: -0.13462661706\n",
       "  y: -0.584128417079\n",
       "  z: 0.0943074019731\n",
       "orientation: \n",
       "  x: 0.610178881466\n",
       "  y: 0.25194157244\n",
       "  z: -0.668948832894\n",
       "  w: 0.34163523773"
      ]
     },
     "execution_count": 15,
     "metadata": {},
     "output_type": "execute_result"
    }
   ],
   "source": [
    "zeroPose"
   ]
  },
  {
   "cell_type": "code",
   "execution_count": 37,
   "metadata": {},
   "outputs": [
    {
     "data": {
      "text/plain": [
       "array([ 0.5,  0.5, -0.5,  0.5])"
      ]
     },
     "execution_count": 37,
     "metadata": {},
     "output_type": "execute_result"
    }
   ],
   "source": [
    "q = group.get_current_pose().pose.orientation\n",
    "np.degrees(euler_from_quaternion((q.x, q.y, q.z, q.w)))\n",
    "d = np.radians([0, 90, -90])\n",
    "quaternion_from_euler(d[0], d[1], d[2])"
   ]
  },
  {
   "cell_type": "code",
   "execution_count": 21,
   "metadata": {},
   "outputs": [
    {
     "ename": "TypeError",
     "evalue": "'Quaternion' object has no attribute '__getitem__'",
     "output_type": "error",
     "traceback": [
      "\u001b[0;31m---------------------------------------------------------------------------\u001b[0m",
      "\u001b[0;31mTypeError\u001b[0m                                 Traceback (most recent call last)",
      "\u001b[0;32m<ipython-input-21-ed44d0410a23>\u001b[0m in \u001b[0;36m<module>\u001b[0;34m()\u001b[0m\n\u001b[0;32m----> 1\u001b[0;31m \u001b[0meuler_from_quaternion\u001b[0m\u001b[0;34m(\u001b[0m\u001b[0mq\u001b[0m\u001b[0;34m)\u001b[0m\u001b[0;34m\u001b[0m\u001b[0m\n\u001b[0m",
      "\u001b[0;32m/opt/ros/kinetic/lib/python2.7/dist-packages/tf/transformations.pyc\u001b[0m in \u001b[0;36meuler_from_quaternion\u001b[0;34m(quaternion, axes)\u001b[0m\n\u001b[1;32m   1095\u001b[0m \u001b[0;34m\u001b[0m\u001b[0m\n\u001b[1;32m   1096\u001b[0m     \"\"\"\n\u001b[0;32m-> 1097\u001b[0;31m     \u001b[0;32mreturn\u001b[0m \u001b[0meuler_from_matrix\u001b[0m\u001b[0;34m(\u001b[0m\u001b[0mquaternion_matrix\u001b[0m\u001b[0;34m(\u001b[0m\u001b[0mquaternion\u001b[0m\u001b[0;34m)\u001b[0m\u001b[0;34m,\u001b[0m \u001b[0maxes\u001b[0m\u001b[0;34m)\u001b[0m\u001b[0;34m\u001b[0m\u001b[0m\n\u001b[0m\u001b[1;32m   1098\u001b[0m \u001b[0;34m\u001b[0m\u001b[0m\n\u001b[1;32m   1099\u001b[0m \u001b[0;34m\u001b[0m\u001b[0m\n",
      "\u001b[0;32m/opt/ros/kinetic/lib/python2.7/dist-packages/tf/transformations.pyc\u001b[0m in \u001b[0;36mquaternion_matrix\u001b[0;34m(quaternion)\u001b[0m\n\u001b[1;32m   1180\u001b[0m \u001b[0;34m\u001b[0m\u001b[0m\n\u001b[1;32m   1181\u001b[0m     \"\"\"\n\u001b[0;32m-> 1182\u001b[0;31m     \u001b[0mq\u001b[0m \u001b[0;34m=\u001b[0m \u001b[0mnumpy\u001b[0m\u001b[0;34m.\u001b[0m\u001b[0marray\u001b[0m\u001b[0;34m(\u001b[0m\u001b[0mquaternion\u001b[0m\u001b[0;34m[\u001b[0m\u001b[0;34m:\u001b[0m\u001b[0;36m4\u001b[0m\u001b[0;34m]\u001b[0m\u001b[0;34m,\u001b[0m \u001b[0mdtype\u001b[0m\u001b[0;34m=\u001b[0m\u001b[0mnumpy\u001b[0m\u001b[0;34m.\u001b[0m\u001b[0mfloat64\u001b[0m\u001b[0;34m,\u001b[0m \u001b[0mcopy\u001b[0m\u001b[0;34m=\u001b[0m\u001b[0mTrue\u001b[0m\u001b[0;34m)\u001b[0m\u001b[0;34m\u001b[0m\u001b[0m\n\u001b[0m\u001b[1;32m   1183\u001b[0m     \u001b[0mnq\u001b[0m \u001b[0;34m=\u001b[0m \u001b[0mnumpy\u001b[0m\u001b[0;34m.\u001b[0m\u001b[0mdot\u001b[0m\u001b[0;34m(\u001b[0m\u001b[0mq\u001b[0m\u001b[0;34m,\u001b[0m \u001b[0mq\u001b[0m\u001b[0;34m)\u001b[0m\u001b[0;34m\u001b[0m\u001b[0m\n\u001b[1;32m   1184\u001b[0m     \u001b[0;32mif\u001b[0m \u001b[0mnq\u001b[0m \u001b[0;34m<\u001b[0m \u001b[0m_EPS\u001b[0m\u001b[0;34m:\u001b[0m\u001b[0;34m\u001b[0m\u001b[0m\n",
      "\u001b[0;31mTypeError\u001b[0m: 'Quaternion' object has no attribute '__getitem__'"
     ]
    }
   ],
   "source": [
    "euler_from_quaternion(q)"
   ]
  },
  {
   "cell_type": "code",
   "execution_count": 27,
   "metadata": {},
   "outputs": [
    {
     "data": {
      "text/plain": [
       "array([ 31.87242469,  81.30274756, -98.34043792])"
      ]
     },
     "execution_count": 27,
     "metadata": {},
     "output_type": "execute_result"
    }
   ],
   "source": []
  },
  {
   "cell_type": "code",
   "execution_count": 16,
   "metadata": {},
   "outputs": [],
   "source": [
    "def push(waypoints, i, bPush = True, tol = 0.02):\n",
    "    wpose = geometry_msgs.msg.Pose()\n",
    "    wpose.orientation.x = 0.5\n",
    "    wpose.orientation.y = 0.5\n",
    "    wpose.orientation.z = -0.5\n",
    "    wpose.orientation.w = 0.5\n",
    "    wpose.position.x = points[i][0] / 100\n",
    "    wpose.position.y = points[i][1] / 100\n",
    "    wpose.position.z = waypoints[0].position.z\n",
    "    waypoints.append(copy.deepcopy(wpose))\n",
    "    \n",
    "    if(bPush):\n",
    "        wpose.position.z = wpose.position.z - tol\n",
    "        waypoints.append(copy.deepcopy(wpose))\n",
    "\n",
    "        wpose.position.z = wpose.position.z + tol\n",
    "        waypoints.append(copy.deepcopy(wpose))"
   ]
  },
  {
   "cell_type": "code",
   "execution_count": 18,
   "metadata": {},
   "outputs": [],
   "source": [
    "zeroPose = group.get_current_pose().pose\n",
    "zeroPose.orientation.x = 0.5\n",
    "zeroPose.orientation.y = 0.5\n",
    "zeroPose.orientation.z = -0.5\n",
    "zeroPose.orientation.w = 0.5"
   ]
  },
  {
   "cell_type": "code",
   "execution_count": 19,
   "metadata": {},
   "outputs": [],
   "source": [
    "unoPose = group.get_current_pose().pose\n",
    "unoPose.orientation.x = 0.5\n",
    "unoPose.orientation.y = 0.5\n",
    "unoPose.orientation.z = -0.5\n",
    "unoPose.orientation.w = 0.5"
   ]
  },
  {
   "cell_type": "code",
   "execution_count": 137,
   "metadata": {},
   "outputs": [
    {
     "name": "stdout",
     "output_type": "stream",
     "text": [
      "Total:  36\n"
     ]
    }
   ],
   "source": [
    "f = open(\"geometria.txt\", 'r')\n",
    "lines = f.readlines()\n",
    "points = []\n",
    "for l in lines:\n",
    "    if \"Punto en (\" in l:\n",
    "        values = l.split(\"(\")[1].split(\")\")[0].split(\",\")[0:2]\n",
    "        points.append(map(lambda x: float(x) / 10.0, values))\n",
    "print \"Total: \", len(points)      "
   ]
  },
  {
   "cell_type": "code",
   "execution_count": 39,
   "metadata": {},
   "outputs": [
    {
     "name": "stdout",
     "output_type": "stream",
     "text": [
      "1.0\n"
     ]
    }
   ],
   "source": [
    "waypoints = []\n",
    "waypoints.append(zeroPose)\n",
    "\n",
    "\n",
    "#for i in range(10):\n",
    "#    push(waypoints, current)\n",
    "#    nextButton = randint(0, 35)\n",
    "#    if abs(current - nextButton) > 20:\n",
    "#        push(waypoints, 18, bPush = False)\n",
    "#    current = nextButton\n",
    "     \n",
    "for i in range(0, 36):\n",
    "    push(waypoints, i, tol = 0.02)\n",
    "for i in range(0, 36):\n",
    "    push(waypoints, 35 - i,  tol = 0.020)\n",
    "\n",
    "group.set_max_acceleration_scaling_factor(1)\n",
    "group.set_max_velocity_scaling_factor(1)\n",
    "(plan, fraction) = group.compute_cartesian_path(\n",
    "                     waypoints,   # waypoints to follow\n",
    "                     0.01,        # eef_step\n",
    "                     0.0)         # jump_threshold\n",
    "\n",
    "print fraction\n",
    "plan = group.retime_trajectory(robot.get_current_state(), plan, 1)\n",
    "\n",
    "if fraction == 1.0:\n",
    "    group.execute(plan)"
   ]
  },
  {
   "cell_type": "code",
   "execution_count": 134,
   "metadata": {},
   "outputs": [
    {
     "data": {
      "text/plain": [
       "[]"
      ]
     },
     "execution_count": 134,
     "metadata": {},
     "output_type": "execute_result"
    }
   ],
   "source": []
  },
  {
   "cell_type": "code",
   "execution_count": 21,
   "metadata": {},
   "outputs": [
    {
     "data": {
      "text/plain": [
       "position: \n",
       "  x: 0.260488871747\n",
       "  y: -0.509645182819\n",
       "  z: 0.187115384785\n",
       "orientation: \n",
       "  x: 0.5\n",
       "  y: 0.5\n",
       "  z: -0.5\n",
       "  w: 0.5"
      ]
     },
     "execution_count": 21,
     "metadata": {},
     "output_type": "execute_result"
    }
   ],
   "source": [
    "unoPose"
   ]
  },
  {
   "cell_type": "code",
   "execution_count": 23,
   "metadata": {},
   "outputs": [],
   "source": [
    "waypoints = []\n",
    "waypoints.append(unoPose)\n",
    "waypoints.append(zeroPose)\n",
    "waypoints.append(unoPose)"
   ]
  },
  {
   "cell_type": "code",
   "execution_count": 56,
   "metadata": {},
   "outputs": [
    {
     "name": "stdout",
     "output_type": "stream",
     "text": [
      "0.422977846471\n"
     ]
    }
   ],
   "source": [
    "group.allow_replanning(True)\n",
    "group.allow_looking(True)\n",
    "group.set_goal_position_tolerance(0.1)\n",
    "\n",
    "group.se\n",
    "\n",
    "(plan, fraction) = group.compute_cartesian_path(\n",
    "                     waypoints,   # waypoints to follow\n",
    "                     0.001,        # eef_step\n",
    "                     0.)         # jump_threshold\n",
    "print fraction"
   ]
  },
  {
   "cell_type": "code",
   "execution_count": 26,
   "metadata": {},
   "outputs": [
    {
     "data": {
      "text/plain": [
       "True"
      ]
     },
     "execution_count": 26,
     "metadata": {},
     "output_type": "execute_result"
    }
   ],
   "source": [
    "group.execute(plan)"
   ]
  },
  {
   "cell_type": "code",
   "execution_count": 38,
   "metadata": {},
   "outputs": [],
   "source": [
    "\n",
    "p = PoseStamped()\n",
    "p.header.frame_id = robot.get_planning_frame()\n",
    "p.pose.position.x = 0.\n",
    "p.pose.position.y = -0.8\n",
    "p.pose.position.z = 0.1\n",
    "scene.add_box(\"obstacle\", p, (0.2, 0.4, 0.2))\n",
    "\n",
    "scene.remove_world_object(\"obstacle\")\n",
    "\n",
    "p = PoseStamped()\n",
    "p.header.frame_id = robot.get_planning_frame()\n",
    "p.pose.position.x = 0\n",
    "p.pose.position.y = 0\n",
    "p.pose.position.z = -0.12\n",
    "scene.add_box(\"floor\", p, (2, 2, 0.2))\n",
    "\n",
    "\n",
    "p = PoseStamped()\n",
    "p.header.frame_id = robot.get_planning_frame()\n",
    "p.pose.position.x = 0\n",
    "p.pose.position.y = 0.4\n",
    "p.pose.position.z = 0\n",
    "scene.add_box(\"wall\", p, (2, 0.2, 2))\n",
    "\n",
    "p = PoseStamped()\n",
    "p.header.frame_id = robot.get_planning_frame()\n",
    "p = robot.get_link(\"ee_link\").pose()\n",
    "p.pose.position.z -= 0.043\n",
    "scene.attach_box(robot.get_link(\"ee_link\").name(), \"box\", p, size= (0.086, 0.05, 0.05))"
   ]
  },
  {
   "cell_type": "code",
   "execution_count": 157,
   "metadata": {},
   "outputs": [],
   "source": [
    "scene.remove_world_object(\"floor\")\n",
    "scene.remove_world_object(\"wall\")\n",
    "scene.remove_attached_object(\"box\")"
   ]
  },
  {
   "cell_type": "code",
   "execution_count": 116,
   "metadata": {},
   "outputs": [],
   "source": [
    "\n"
   ]
  },
  {
   "cell_type": "code",
   "execution_count": 176,
   "metadata": {},
   "outputs": [],
   "source": [
    "\n",
    "scene.remove_attached_object(\"box\")"
   ]
  },
  {
   "cell_type": "code",
   "execution_count": 34,
   "metadata": {},
   "outputs": [
    {
     "data": {
      "text/plain": [
       "{'box': link_name: ee_link\n",
       " object: \n",
       "   header: \n",
       "     seq: 0\n",
       "     stamp: \n",
       "       secs: 0\n",
       "       nsecs:         0\n",
       "     frame_id: ee_link\n",
       "   id: box\n",
       "   type: \n",
       "     key: ''\n",
       "     db: ''\n",
       "   primitives: \n",
       "     - \n",
       "       type: 1\n",
       "       dimensions: [0.086, 0.05, 0.05]\n",
       "   primitive_poses: \n",
       "     - \n",
       "       position: \n",
       "         x: 0.0429996181517\n",
       "         y: -7.9817333769e-06\n",
       "         z: 2.84109435757e-06\n",
       "       orientation: \n",
       "         x: 1.19806912601e-05\n",
       "         y: 4.05860855123e-06\n",
       "         z: 7.38760899566e-06\n",
       "         w: 0.999999999893\n",
       "   meshes: []\n",
       "   mesh_poses: []\n",
       "   planes: []\n",
       "   plane_poses: []\n",
       "   operation: 0\n",
       " touch_links: ['ee_link']\n",
       " detach_posture: \n",
       "   header: \n",
       "     seq: 0\n",
       "     stamp: \n",
       "       secs: 0\n",
       "       nsecs:         0\n",
       "     frame_id: ''\n",
       "   joint_names: []\n",
       "   points: []\n",
       " weight: 0.0}"
      ]
     },
     "execution_count": 34,
     "metadata": {},
     "output_type": "execute_result"
    }
   ],
   "source": [
    "scene.get_attached_objects()"
   ]
  },
  {
   "cell_type": "code",
   "execution_count": 98,
   "metadata": {},
   "outputs": [
    {
     "name": "stdout",
     "output_type": "stream",
     "text": [
      "Help on method attach_box in module moveit_commander.planning_scene_interface:\n",
      "\n",
      "attach_box(self, link, name, pose=None, size=(1, 1, 1), touch_links=[]) method of moveit_commander.planning_scene_interface.PlanningSceneInterface instance\n",
      "\n"
     ]
    }
   ],
   "source": []
  },
  {
   "cell_type": "code",
   "execution_count": null,
   "metadata": {},
   "outputs": [],
   "source": []
  }
 ],
 "metadata": {
  "kernelspec": {
   "display_name": "Python 2",
   "language": "python",
   "name": "python2"
  },
  "language_info": {
   "codemirror_mode": {
    "name": "ipython",
    "version": 2
   },
   "file_extension": ".py",
   "mimetype": "text/x-python",
   "name": "python",
   "nbconvert_exporter": "python",
   "pygments_lexer": "ipython2",
   "version": "2.7.12"
  }
 },
 "nbformat": 4,
 "nbformat_minor": 2
}
